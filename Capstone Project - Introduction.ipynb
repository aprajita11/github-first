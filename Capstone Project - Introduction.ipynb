{
 "cells": [
  {
   "cell_type": "markdown",
   "metadata": {
    "collapsed": true
   },
   "source": [
    "# Venue Analysis for a new Italian Restaurant in Brooklyn"
   ]
  },
  {
   "cell_type": "markdown",
   "metadata": {},
   "source": [
    "## A. Introduction"
   ]
  },
  {
   "cell_type": "markdown",
   "metadata": {},
   "source": [
    "### A.1. Background"
   ]
  },
  {
   "cell_type": "markdown",
   "metadata": {},
   "source": [
    "Italian cuisine is one of the most loved cuisine in the entire world. People of different nations and cultures enjoy it. It combines the health benefits with a wide choice of seasonal ingredients. Who doesn't like dishes like Pizza and Pasta! Having a famous Italian Restaurant at a fine place is a dream of many. Brooklyn is the most populous borough of New York. It offers attractions to every type of traveller. At such a place, finding a suitable place for owning a well-built and decorated restaurant is quite a task. Knowing about the people's likes and dislikes is important before starting such a venture as huge amount of money is invested in from owning a place to interiors to plenty of staffs and so on. Knowing about the competitors is important in any kind of business. Nobody wants to be at loss. Having a platform which could provide all these information would help al those who are new in business. "
   ]
  },
  {
   "cell_type": "markdown",
   "metadata": {},
   "source": [
    "### A.2. Problem"
   ]
  },
  {
   "cell_type": "markdown",
   "metadata": {},
   "source": [
    "Data might contribute in determining a suitable place for this. Gathering all these information and having a clear and vivid idea about all the challenges in opening a new restaurant is a tedious task but it will help all those who are interested in any kind of such ventures before they decide on going on with their investment. It is always a better idea to have investment of such big budget to be at least risk. Having a restaurant in a neighborhood of high population beats a large fraction of risk. Therefore, we will try to analyze the neighborhoods of Brooklyn which are high in population and try to find out the optimised result. We will be using Foursquare location data to explore the Brooklyn and its neighbors and find an ideal location."
   ]
  }
 ],
 "metadata": {
  "kernelspec": {
   "display_name": "Python 3.5",
   "language": "python",
   "name": "python3"
  },
  "language_info": {
   "codemirror_mode": {
    "name": "ipython",
    "version": 3
   },
   "file_extension": ".py",
   "mimetype": "text/x-python",
   "name": "python",
   "nbconvert_exporter": "python",
   "pygments_lexer": "ipython3",
   "version": "3.5.5"
  }
 },
 "nbformat": 4,
 "nbformat_minor": 1
}
