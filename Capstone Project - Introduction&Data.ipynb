{
 "cells": [
  {
   "cell_type": "markdown",
   "metadata": {
    "collapsed": true
   },
   "source": [
    "# Venue Analysis for a new Italian Restaurant in Brooklyn"
   ]
  },
  {
   "cell_type": "markdown",
   "metadata": {},
   "source": [
    "## A. Introduction"
   ]
  },
  {
   "cell_type": "markdown",
   "metadata": {},
   "source": [
    "### A.1. Background"
   ]
  },
  {
   "cell_type": "markdown",
   "metadata": {},
   "source": [
    "Italian cuisine is one of the most loved cuisine in the entire world. People of different nations and cultures enjoy it. It combines the health benefits with a wide choice of seasonal ingredients. Who doesn't like dishes like Pizza and Pasta! Having a famous Italian Restaurant at a fine place is a dream of many. Brooklyn is the most populous borough of New York. It offers attractions to every type of traveller. At such a place, finding a suitable place for owning a well-built and decorated restaurant is quite a task. Knowing about the people's likes and dislikes is important before starting such a venture as huge amount of money is invested in from owning a place to interiors to plenty of staffs and so on. Knowing about the competitors is important in any kind of business. Nobody wants to be at loss. Having a platform which could provide all these information would help al those who are new in business. "
   ]
  },
  {
   "cell_type": "markdown",
   "metadata": {},
   "source": [
    "### A.2. Problem"
   ]
  },
  {
   "cell_type": "markdown",
   "metadata": {},
   "source": [
    "Data might contribute in determining a suitable place for this. Gathering all these information and having a clear and vivid idea about all the challenges in opening a new restaurant is a tedious task but it will help all those who are interested in any kind of such ventures before they decide on going on with their investment. It is always a better idea to have investment of such big budget to be at least risk. Having a restaurant in a neighborhood of high population beats a large fraction of risk. Therefore, we will try to analyze the neighborhoods of Brooklyn which are high in population and try to find out the optimised result. We will be using Foursquare location data to explore the Brooklyn and its neighbors and find an ideal location."
   ]
  },
  {
   "cell_type": "markdown",
   "metadata": {},
   "source": [
    "## B. Data Description"
   ]
  },
  {
   "cell_type": "markdown",
   "metadata": {},
   "source": [
    "We need information about the neighborhoods of Brooklyn borough and find the most common venues visited by people in that neighborhood. We can find this by using Foursquare. We will compare the top two most populated neighborhoods of Brooklyn. Once we get the venues, we will be able to decide which neighborhood is more ideal to open a new Italian Restaurant."
   ]
  },
  {
   "cell_type": "markdown",
   "metadata": {},
   "source": [
    "1. New York has a total of 5 boroughs and Brooklyn is one of them. In order to segment the neighborhood and explore them, a dataset is needed that contains these boroughs and the neighborhoods that exist in each borough. There is a free dataset available on web which I found on https://geo.nyu.edu/catalog/nyu_2451_34572. This dataset contains all the Boroughs, their Neighborhoods and their Latitudes and Longitudes.\n",
    "\n",
    "\n",
    "\n",
    "2. I cleaned the data and reduced it to the borough of Brooklyn which I used to find further information about its neighborhoods. Now, it contained only the neighborhoods of Brooklyn and their respective latitudes and longitudes.\n",
    "\n",
    "\n",
    "\n",
    "3. I found a file at https://www.worldatlas.com/articles/brooklyn-neighborhoods-by-population.html where I found a table which contains the neighborhoods of Brooklyn listed along with their populations. I used this table to make a dataframe and use it according to the problem.\n",
    "\n",
    "\n",
    "\n",
    "4. Foursquare API is being used to explore neighborhoods of Brooklyn. To find the most common venue categories in the neighborhoods, \"explore\" function is used. So, the dataframe is now reduced to the venues in the chosen neighborhoods to explore the most common venue categories."
   ]
  },
  {
   "cell_type": "markdown",
   "metadata": {},
   "source": [
    "Data downloaded or scraped were converted into pandas dataframes and put to use."
   ]
  }
 ],
 "metadata": {
  "kernelspec": {
   "display_name": "Python 3.5",
   "language": "python",
   "name": "python3"
  },
  "language_info": {
   "codemirror_mode": {
    "name": "ipython",
    "version": 3
   },
   "file_extension": ".py",
   "mimetype": "text/x-python",
   "name": "python",
   "nbconvert_exporter": "python",
   "pygments_lexer": "ipython3",
   "version": "3.5.5"
  }
 },
 "nbformat": 4,
 "nbformat_minor": 1
}
